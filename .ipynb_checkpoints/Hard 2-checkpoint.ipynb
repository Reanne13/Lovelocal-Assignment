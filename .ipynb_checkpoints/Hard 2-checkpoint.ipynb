{
 "cells": [
  {
   "cell_type": "code",
   "execution_count": 1,
   "id": "31fda46e",
   "metadata": {},
   "outputs": [
    {
     "name": "stdout",
     "output_type": "stream",
     "text": [
      "Enter a string: aacecaaa\n",
      "The shortest palindrome is: aaacecaaa\n"
     ]
    }
   ],
   "source": [
    "# Define a function to find the shortest palindrome by adding characters to the beginning of the string\n",
    "def shortest_palindrome(s):\n",
    "    # If the input string is empty, return an empty string\n",
    "    if not s:\n",
    "        return \"\"\n",
    "\n",
    "    # Reverse the input string and concatenate it with the original string, separated by a special character\n",
    "    rev_s = s[::-1]\n",
    "    combined = s + \"#\" + rev_s\n",
    "    # Initialize the KMP (Knuth-Morris-Pratt) table for the combined string\n",
    "    kmp_table = [0] * len(combined)\n",
    "\n",
    "    # Fill the KMP table using the KMP preprocessing algorithm\n",
    "    for i in range(1, len(combined)):\n",
    "        j = kmp_table[i - 1]\n",
    "        # Find the longest proper prefix which is also a suffix\n",
    "        while j > 0 and combined[i] != combined[j]:\n",
    "            j = kmp_table[j - 1]\n",
    "        # If the characters match, increment the length of the current longest prefix\n",
    "        if combined[i] == combined[j]:\n",
    "            j += 1\n",
    "        # Update the KMP table with the length of the longest prefix\n",
    "        kmp_table[i] = j\n",
    "\n",
    "    # Use the KMP table to determine the characters to add to the beginning of the original string to form a palindrome\n",
    "    return rev_s[:len(s) - kmp_table[-1]] + s\n",
    "\n",
    "# Prompt the user for a string\n",
    "user_input = input(\"Enter a string: \")\n",
    "\n",
    "# Call the shortest_palindrome function with the user's input\n",
    "result = shortest_palindrome(user_input)\n",
    "\n",
    "# Output the result\n",
    "print(\"The shortest palindrome is:\", result)\n"
   ]
  }
 ],
 "metadata": {
  "kernelspec": {
   "display_name": "Python 3 (ipykernel)",
   "language": "python",
   "name": "python3"
  },
  "language_info": {
   "codemirror_mode": {
    "name": "ipython",
    "version": 3
   },
   "file_extension": ".py",
   "mimetype": "text/x-python",
   "name": "python",
   "nbconvert_exporter": "python",
   "pygments_lexer": "ipython3",
   "version": "3.9.12"
  }
 },
 "nbformat": 4,
 "nbformat_minor": 5
}
