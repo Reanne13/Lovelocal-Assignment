{
 "cells": [
  {
   "cell_type": "code",
   "execution_count": 5,
   "id": "c5ff6862",
   "metadata": {},
   "outputs": [
    {
     "name": "stdout",
     "output_type": "stream",
     "text": [
      "Enter space-separated integers: 1 2\n",
      "Elements that appear more than ⌊ n/3 ⌋ times: [1, 2]\n"
     ]
    }
   ],
   "source": [
    "# Define a function to find all elements that appear more than n/3 times in a list\n",
    "def majority_elements(nums):\n",
    "    # If the input list is empty, return an empty list\n",
    "    if not nums:\n",
    "        return []\n",
    "\n",
    "    # Initialize counters and candidates for the majority element search\n",
    "    count1, count2, candidate1, candidate2 = 0, 0, None, None\n",
    "\n",
    "    # Iterate over each number in the input list\n",
    "    for num in nums:\n",
    "        # If the current number matches the first candidate, increment its counter\n",
    "        if candidate1 == num:\n",
    "            count1 += 1\n",
    "        # If the current number matches the second candidate, increment its counter\n",
    "        elif candidate2 == num:\n",
    "            count2 += 1\n",
    "        # If the first candidate's counter is zero, assign the current number as the first candidate\n",
    "        elif count1 == 0:\n",
    "            candidate1, count1 = num, 1\n",
    "        # If the second candidate's counter is zero, assign the current number as the second candidate\n",
    "        elif count2 == 0:\n",
    "            candidate2, count2 = num, 1\n",
    "        # If the current number matches neither candidate, decrement both counters\n",
    "        else:\n",
    "            count1 -= 1\n",
    "            count2 -= 1\n",
    "\n",
    "    # Reset the counters for the next phase\n",
    "    count1 = count2 = 0\n",
    "    # Iterate over each number again to count the occurrences of the candidates\n",
    "    for num in nums:\n",
    "        if num == candidate1:\n",
    "            count1 += 1\n",
    "        elif num == candidate2:\n",
    "            count2 += 1\n",
    "\n",
    "    # Prepare a list to store the majority elements\n",
    "    result = []\n",
    "    # Calculate the length of the input list\n",
    "    n = len(nums)\n",
    "\n",
    "    # Check if the first candidate appears more than n/3 times\n",
    "    if count1 > n // 3:\n",
    "        result.append(candidate1)\n",
    "    # Check if the second candidate appears more than n/3 times\n",
    "    if count2 > n // 3:\n",
    "        result.append(candidate2)\n",
    "\n",
    "    # Return the list of majority elements\n",
    "    return result\n",
    "\n",
    "# Prompt the user for input and convert it into a list of integers\n",
    "user_input = input(\"Enter space-separated integers: \")\n",
    "nums = list(map(int, user_input.split()))\n",
    "\n",
    "# Call the majority_elements function with the user's input\n",
    "result = majority_elements(nums)\n",
    "\n",
    "# Display the majority elements found\n",
    "print(\"Elements that appear more than ⌊ n/3 ⌋ times:\", result)\n"
   ]
  }
 ],
 "metadata": {
  "kernelspec": {
   "display_name": "Python 3 (ipykernel)",
   "language": "python",
   "name": "python3"
  },
  "language_info": {
   "codemirror_mode": {
    "name": "ipython",
    "version": 3
   },
   "file_extension": ".py",
   "mimetype": "text/x-python",
   "name": "python",
   "nbconvert_exporter": "python",
   "pygments_lexer": "ipython3",
   "version": "3.9.12"
  }
 },
 "nbformat": 4,
 "nbformat_minor": 5
}
