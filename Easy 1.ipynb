{
 "cells": [
  {
   "cell_type": "code",
   "execution_count": 9,
   "id": "277042eb",
   "metadata": {},
   "outputs": [
    {
     "name": "stdout",
     "output_type": "stream",
     "text": [
      "Enter a string: hello world\n",
      "5\n",
      "The last word is \"world\" with length 5.\n"
     ]
    }
   ],
   "source": [
    "# Define a function that takes a string as input and returns information about the last word.\n",
    "def last_word(s):\n",
    "    # Split the input string into a list of words\n",
    "    words = s.split()\n",
    "    \n",
    "    # Get the last word from the list of words\n",
    "    last = words[-1]\n",
    "    \n",
    "    # Return a tuple containing the length of the last word and the last word itself\n",
    "    return len(last), last\n",
    "\n",
    "# Prompt the user to enter a string and store it in variable 's'\n",
    "s = input(\"Enter a string: \")\n",
    "\n",
    "# Call the function 'last_word' with the user's input string and unpack the returned tuple into 'length' and 'last'\n",
    "length, last = last_word(s)\n",
    "\n",
    "# Print the length of the last word\n",
    "print(length)\n",
    "\n",
    "# Print a formatted string that includes the last word and its length\n",
    "print(f'The last word is \"{last}\" with length {length}.')\n"
   ]
  }
 ],
 "metadata": {
  "kernelspec": {
   "display_name": "Python 3 (ipykernel)",
   "language": "python",
   "name": "python3"
  },
  "language_info": {
   "codemirror_mode": {
    "name": "ipython",
    "version": 3
   },
   "file_extension": ".py",
   "mimetype": "text/x-python",
   "name": "python",
   "nbconvert_exporter": "python",
   "pygments_lexer": "ipython3",
   "version": "3.9.12"
  }
 },
 "nbformat": 4,
 "nbformat_minor": 5
}
